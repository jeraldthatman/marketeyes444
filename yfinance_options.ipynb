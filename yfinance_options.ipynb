{
 "cells": [
  {
   "cell_type": "markdown",
   "metadata": {},
   "source": [
    "# How to download options using yfinance in Python"
   ]
  },
  {
   "cell_type": "code",
   "execution_count": 32,
   "metadata": {},
   "outputs": [],
   "source": [
    "import yfinance as yf \n",
    "import pandas as pd "
   ]
  },
  {
   "cell_type": "markdown",
   "metadata": {},
   "source": [
    "## Method 1 \n",
    "------------------------ "
   ]
  },
  {
   "cell_type": "code",
   "execution_count": 34,
   "metadata": {},
   "outputs": [
    {
     "name": "stdout",
     "output_type": "stream",
     "text": [
      "The length of the concatenated data frame is: 1,759\n"
     ]
    }
   ],
   "source": [
    "symbol = 'aapl'\n",
    "tk = yf.Ticker(symbol)\n",
    "exps = tk.options # Expiration dates\n",
    "options = pd.DataFrame() # Get options for each expiration\n",
    "for e in exps:\n",
    "    opt = tk.option_chain(e)\n",
    "    opt = pd.DataFrame().append(opt.calls).append(opt.puts)\n",
    "    opt['expirationDate'] = e\n",
    "    options = options.append(opt, ignore_index=True)\n",
    "print(f'The length of the concatenated data frame is: {len(options):,.0f}')\n"
   ]
  },
  {
   "cell_type": "markdown",
   "metadata": {},
   "source": [
    "## Method 2 \n",
    "---\n"
   ]
  },
  {
   "cell_type": "code",
   "execution_count": 33,
   "metadata": {},
   "outputs": [
    {
     "name": "stdout",
     "output_type": "stream",
     "text": [
      "The length of the concatenated data frame is: 1,759\n"
     ]
    }
   ],
   "source": [
    "symbol = 'aapl'\n",
    "tick = yf.Ticker(symbol)\n",
    "exp = tick.options\n",
    "full_chain = [tick.option_chain(i) for i in exp]\n",
    "#for i in full_chain: # i = expiration dates\n",
    "out = []\n",
    "for i in range(len(exp)):\n",
    "    out.append(pd.concat([full_chain[i][0], full_chain[i][1]]))\n",
    "\n",
    "df = pd.concat([i for i in out])\n",
    "print(f'The length of the concatenated data frame is: {len(df):,.0f}')"
   ]
  },
  {
   "cell_type": "code",
   "execution_count": 37,
   "metadata": {},
   "outputs": [
    {
     "data": {
      "text/plain": [
       "dtype('O')"
      ]
     },
     "execution_count": 37,
     "metadata": {},
     "output_type": "execute_result"
    }
   ],
   "source": [
    "df.contractSymbol.dtype"
   ]
  },
  {
   "cell_type": "code",
   "execution_count": null,
   "metadata": {},
   "outputs": [],
   "source": []
  }
 ],
 "metadata": {
  "interpreter": {
   "hash": "ee8f712fe58a2a1e8e7343d3189c469d59f4822b637ab3b767b226c4ae987255"
  },
  "kernelspec": {
   "display_name": "Python 3.9.7 ('dsenv')",
   "language": "python",
   "name": "python3"
  },
  "language_info": {
   "codemirror_mode": {
    "name": "ipython",
    "version": 3
   },
   "file_extension": ".py",
   "mimetype": "text/x-python",
   "name": "python",
   "nbconvert_exporter": "python",
   "pygments_lexer": "ipython3",
   "version": "3.9.7"
  },
  "orig_nbformat": 4
 },
 "nbformat": 4,
 "nbformat_minor": 2
}
